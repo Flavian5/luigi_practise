{
 "cells": [
  {
   "cell_type": "code",
   "execution_count": 2,
   "metadata": {},
   "outputs": [],
   "source": [
    "from sklearn.preprocessing import OneHotEncoder, LabelEncoder\n"
   ]
  },
  {
   "cell_type": "code",
   "execution_count": 4,
   "metadata": {},
   "outputs": [
    {
     "name": "stdout",
     "output_type": "stream",
     "text": [
      "OneHotEncoder(categorical_features='all', dtype=<type 'numpy.float64'>,\n",
      "       handle_unknown='ignore', n_values='auto', sparse=True)\n"
     ]
    }
   ],
   "source": [
    "X = ['NYC', \"ABC\"]\n",
    "y = [0,1]\n",
    "le = LabelEncoder()\n",
    "le.fit(X)\n",
    "\n",
    "new_X = le.transform(X)\n",
    "enc = OneHotEncoder(handle_unknown='ignore')\n",
    "X_one_hot = enc.fit([new_X])\n",
    "print(X_one_hot)\n"
   ]
  }
 ],
 "metadata": {
  "kernelspec": {
   "display_name": "Python 3",
   "language": "python",
   "name": "python3"
  },
  "language_info": {
   "codemirror_mode": {
    "name": "ipython",
    "version": 2
   },
   "file_extension": ".py",
   "mimetype": "text/x-python",
   "name": "python",
   "nbconvert_exporter": "python",
   "pygments_lexer": "ipython2",
   "version": "2.7.12"
  }
 },
 "nbformat": 4,
 "nbformat_minor": 2
}
